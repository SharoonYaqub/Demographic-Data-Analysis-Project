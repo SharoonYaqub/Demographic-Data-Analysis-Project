{
 "cells": [
  {
   "cell_type": "code",
   "execution_count": 84,
   "metadata": {},
   "outputs": [],
   "source": [
    "import pandas as pd"
   ]
  },
  {
   "cell_type": "code",
   "execution_count": 85,
   "metadata": {},
   "outputs": [],
   "source": [
    "df = pd.DataFrame\n"
   ]
  },
  {
   "attachments": {},
   "cell_type": "markdown",
   "metadata": {},
   "source": [
    "## Reading Data"
   ]
  },
  {
   "cell_type": "code",
   "execution_count": 86,
   "metadata": {},
   "outputs": [],
   "source": [
    "df = pd.read_csv('adultdata.csv', index_col = False)"
   ]
  },
  {
   "attachments": {},
   "cell_type": "markdown",
   "metadata": {},
   "source": [
    "## Checking if the Data needs Cleaning"
   ]
  },
  {
   "cell_type": "code",
   "execution_count": 87,
   "metadata": {},
   "outputs": [
    {
     "data": {
      "text/plain": [
       "488415"
      ]
     },
     "execution_count": 87,
     "metadata": {},
     "output_type": "execute_result"
    }
   ],
   "source": [
    "df.size"
   ]
  },
  {
   "cell_type": "code",
   "execution_count": 88,
   "metadata": {},
   "outputs": [
    {
     "data": {
      "text/plain": [
       "(32561, 15)"
      ]
     },
     "execution_count": 88,
     "metadata": {},
     "output_type": "execute_result"
    }
   ],
   "source": [
    "df.shape"
   ]
  },
  {
   "cell_type": "code",
   "execution_count": 89,
   "metadata": {},
   "outputs": [
    {
     "name": "stdout",
     "output_type": "stream",
     "text": [
      "<class 'pandas.core.frame.DataFrame'>\n",
      "RangeIndex: 32561 entries, 0 to 32560\n",
      "Data columns (total 15 columns):\n",
      " #   Column          Non-Null Count  Dtype \n",
      "---  ------          --------------  ----- \n",
      " 0   age             32561 non-null  int64 \n",
      " 1   workclass       32561 non-null  object\n",
      " 2   fnlwgt          32561 non-null  int64 \n",
      " 3   education       32561 non-null  object\n",
      " 4   education-num   32561 non-null  int64 \n",
      " 5   marital-status  32561 non-null  object\n",
      " 6   occupation      32561 non-null  object\n",
      " 7   relationship    32561 non-null  object\n",
      " 8   race            32561 non-null  object\n",
      " 9   sex             32561 non-null  object\n",
      " 10  capital-gain    32561 non-null  int64 \n",
      " 11  capital-loss    32561 non-null  int64 \n",
      " 12  hours-per-week  32561 non-null  int64 \n",
      " 13  native-country  32561 non-null  object\n",
      " 14  salary          32561 non-null  object\n",
      "dtypes: int64(6), object(9)\n",
      "memory usage: 3.7+ MB\n"
     ]
    }
   ],
   "source": [
    "df.info()"
   ]
  },
  {
   "cell_type": "code",
   "execution_count": 90,
   "metadata": {},
   "outputs": [
    {
     "data": {
      "text/plain": [
       "array(['White', 'Black', 'Asian-Pac-Islander', 'Amer-Indian-Eskimo',\n",
       "       'Other'], dtype=object)"
      ]
     },
     "execution_count": 90,
     "metadata": {},
     "output_type": "execute_result"
    }
   ],
   "source": [
    "race = df['race'].unique()\n",
    "race"
   ]
  },
  {
   "attachments": {},
   "cell_type": "markdown",
   "metadata": {},
   "source": [
    "# Analyzing Data"
   ]
  },
  {
   "attachments": {},
   "cell_type": "markdown",
   "metadata": {},
   "source": [
    "# Q) How many people of each race are represented in this dataset"
   ]
  },
  {
   "cell_type": "code",
   "execution_count": 91,
   "metadata": {},
   "outputs": [
    {
     "data": {
      "text/plain": [
       "White                 27816\n",
       "Black                  3124\n",
       "Asian-Pac-Islander     1039\n",
       "Amer-Indian-Eskimo      311\n",
       "Other                   271\n",
       "Name: race, dtype: int64"
      ]
     },
     "execution_count": 91,
     "metadata": {},
     "output_type": "execute_result"
    }
   ],
   "source": [
    "df['race'].value_counts()\n"
   ]
  },
  {
   "cell_type": "code",
   "execution_count": 92,
   "metadata": {},
   "outputs": [
    {
     "data": {
      "text/plain": [
       "Index(['age', 'workclass', 'fnlwgt', 'education', 'education-num',\n",
       "       'marital-status', 'occupation', 'relationship', 'race', 'sex',\n",
       "       'capital-gain', 'capital-loss', 'hours-per-week', 'native-country',\n",
       "       'salary'],\n",
       "      dtype='object')"
      ]
     },
     "execution_count": 92,
     "metadata": {},
     "output_type": "execute_result"
    }
   ],
   "source": [
    "df.columns"
   ]
  },
  {
   "attachments": {},
   "cell_type": "markdown",
   "metadata": {},
   "source": [
    "# Q)  What is the average age of men\n"
   ]
  },
  {
   "cell_type": "code",
   "execution_count": 93,
   "metadata": {},
   "outputs": [
    {
     "data": {
      "text/plain": [
       "39.43354749885268"
      ]
     },
     "execution_count": 93,
     "metadata": {},
     "output_type": "execute_result"
    }
   ],
   "source": [
    "male = df[(df['sex'] == 'Male')]\n",
    "male.age.mean()"
   ]
  },
  {
   "attachments": {},
   "cell_type": "markdown",
   "metadata": {},
   "source": [
    "# Q) What percentage of people with Bachelors Degree"
   ]
  },
  {
   "cell_type": "code",
   "execution_count": 94,
   "metadata": {},
   "outputs": [
    {
     "data": {
      "text/plain": [
       "16.4"
      ]
     },
     "execution_count": 94,
     "metadata": {},
     "output_type": "execute_result"
    }
   ],
   "source": [
    "total_education = len(df['education'])\n",
    "num_bachelors = len(df[(df['education'] == 'Bachelors')])\n",
    "round(num_bachelors/ total_education * 100, 1) "
   ]
  },
  {
   "attachments": {},
   "cell_type": "markdown",
   "metadata": {},
   "source": [
    "# Q) What percentage of people with advanced education (`Bachelors`, `Masters`, or `Doctorate`) make more than 50K?"
   ]
  },
  {
   "cell_type": "code",
   "execution_count": 96,
   "metadata": {},
   "outputs": [
    {
     "data": {
      "text/plain": [
       "44.9"
      ]
     },
     "execution_count": 96,
     "metadata": {},
     "output_type": "execute_result"
    }
   ],
   "source": [
    "total_advanced_education = df[df['education'].isin(['Bachelors', 'Masters', 'Doctrate'])]\n",
    "round(len(total_advanced_education[total_advanced_education.salary == '>50K'])/len(total_advanced_education) * 100, 1)\n"
   ]
  },
  {
   "attachments": {},
   "cell_type": "markdown",
   "metadata": {},
   "source": [
    "# Q) What percentage of people without advanced education (`Bachelors`, `Masters`, or `Doctorate`) make more than 50K?"
   ]
  },
  {
   "cell_type": "code",
   "execution_count": 97,
   "metadata": {},
   "outputs": [
    {
     "data": {
      "text/plain": [
       "18.3"
      ]
     },
     "execution_count": 97,
     "metadata": {},
     "output_type": "execute_result"
    }
   ],
   "source": [
    "total_lower_education = df[~df['education'].isin(['Bachelors', 'Masters', 'Doctrate'])]\n",
    "round(len(total_lower_education[total_lower_education.salary == '>50K'])/len(total_lower_education) * 100, 1)"
   ]
  },
  {
   "attachments": {},
   "cell_type": "markdown",
   "metadata": {},
   "source": [
    "# Q) What is the minimum number of hours a person works per week (hours-per-week feature)?"
   ]
  },
  {
   "cell_type": "code",
   "execution_count": 98,
   "metadata": {},
   "outputs": [
    {
     "data": {
      "text/plain": [
       "1"
      ]
     },
     "execution_count": 98,
     "metadata": {},
     "output_type": "execute_result"
    }
   ],
   "source": [
    "df['hours-per-week'].min()"
   ]
  },
  {
   "attachments": {},
   "cell_type": "markdown",
   "metadata": {},
   "source": [
    "# Q) What percentage of the people who work the minimum number of hours per week have a salary of >50K?"
   ]
  },
  {
   "cell_type": "code",
   "execution_count": 99,
   "metadata": {},
   "outputs": [
    {
     "data": {
      "text/plain": [
       "10.0"
      ]
     },
     "execution_count": 99,
     "metadata": {},
     "output_type": "execute_result"
    }
   ],
   "source": [
    "min_hour = df['hours-per-week'].min()\n",
    "min_hour_people = df[df['hours-per-week'] == min_hour]\n",
    "round(len(min_hour_people[min_hour_people.salary == '>50K'])/len(min_hour_people) * 100, 1)"
   ]
  },
  {
   "attachments": {},
   "cell_type": "markdown",
   "metadata": {},
   "source": [
    "# Q) What country has the highest percentage of people that earn >50K?"
   ]
  },
  {
   "cell_type": "code",
   "execution_count": 100,
   "metadata": {},
   "outputs": [
    {
     "data": {
      "text/plain": [
       "'Iran'"
      ]
     },
     "execution_count": 100,
     "metadata": {},
     "output_type": "execute_result"
    }
   ],
   "source": [
    "country = df['native-country'].value_counts()\n",
    "country_rich = df[df['salary'] == '>50K']['native-country'].value_counts()\n",
    "(country_rich / country * 100).idxmax()\n"
   ]
  },
  {
   "cell_type": "code",
   "execution_count": 101,
   "metadata": {},
   "outputs": [
    {
     "data": {
      "text/plain": [
       "41.86046511627907"
      ]
     },
     "execution_count": 101,
     "metadata": {},
     "output_type": "execute_result"
    }
   ],
   "source": [
    "(country_rich / country * 100).max()"
   ]
  },
  {
   "cell_type": "code",
   "execution_count": 106,
   "metadata": {},
   "outputs": [
    {
     "data": {
      "text/plain": [
       "array(['United-States', 'Cuba', 'Jamaica', 'India', '?', 'Mexico',\n",
       "       'South', 'Puerto-Rico', 'Honduras', 'England', 'Canada', 'Germany',\n",
       "       'Iran', 'Philippines', 'Italy', 'Poland', 'Columbia', 'Cambodia',\n",
       "       'Thailand', 'Ecuador', 'Laos', 'Taiwan', 'Haiti', 'Portugal',\n",
       "       'Dominican-Republic', 'El-Salvador', 'France', 'Guatemala',\n",
       "       'China', 'Japan', 'Yugoslavia', 'Peru',\n",
       "       'Outlying-US(Guam-USVI-etc)', 'Scotland', 'Trinadad&Tobago',\n",
       "       'Greece', 'Nicaragua', 'Vietnam', 'Hong', 'Ireland', 'Hungary',\n",
       "       'Holand-Netherlands'], dtype=object)"
      ]
     },
     "execution_count": 106,
     "metadata": {},
     "output_type": "execute_result"
    }
   ],
   "source": [
    "df['native-country'].unique()"
   ]
  },
  {
   "cell_type": "code",
   "execution_count": 108,
   "metadata": {},
   "outputs": [
    {
     "name": "stdout",
     "output_type": "stream",
     "text": [
      "Number of each race:\n",
      " White                 27816\n",
      "Black                  3124\n",
      "Asian-Pac-Islander     1039\n",
      "Amer-Indian-Eskimo      311\n",
      "Other                   271\n",
      "Name: race, dtype: int64\n",
      "\n",
      "Average age of men: 39.43354749885268\n",
      "Percentage with Bachelors degrees: 16.4%\n",
      "\n",
      "Percentage with higher education that earn >50K: 44.9%\n",
      "\n",
      "Percentage without higher education that earn >50K: 18.3%\n",
      "\n",
      "Min work time: 1 hours/week\n",
      "\n",
      "Percentage of rich among those who work fewest hours: 10.0%\n",
      "\n",
      "Country with highest percentage of rich: Iran\n",
      "\n",
      "Highest percentage of rich people in country: 41.9%\n",
      "\n",
      "Top occupations in United States: Exec-managerial\n"
     ]
    }
   ],
   "source": [
    "\n",
    "import pandas as pd\n",
    "\n",
    "def calculate_demographic_data(print_data=True):\n",
    "  # Read data from file\n",
    "  df = pd.read_csv('adultdata.csv')\n",
    "  \n",
    "  race_count = df['race'].value_counts()\n",
    "\n",
    "  # What is the average age of men?\n",
    "  male = df[(df['sex'] == 'Male')]\n",
    "  average_age_men = male.age.mean()\n",
    "\n",
    "  # What is the percentage of people who have a Bachelor's degree?\n",
    "  total_education = len(df['education'])\n",
    "  num_bachelors = len(df[(df['education'] == 'Bachelors')])\n",
    "  percentage_bachelors = round(num_bachelors / total_education * 100, 1) \n",
    "\n",
    "  # What percentage of people with advanced education (`Bachelors`, `Masters`, or `Doctorate`)   make more than 50K?\n",
    "  \n",
    "\n",
    "  # What percentage of people without advanced education make more than 50K?\n",
    "\n",
    "  # with and without `Bachelors`, `Masters`, or `Doctorate`\n",
    "  higher_education = df[df['education'].isin(['Bachelors', 'Masters', 'Doctrate'])]\n",
    "\n",
    "  lower_education = df[~df['education'].isin(['Bachelors', 'Masters', 'Doctrate'])]\n",
    "\n",
    "  # percentage with salary >50K\n",
    "  higher_education_rich = round(len(higher_education[higher_education.salary == '>50K'])/len(higher_education) * 100, 1)\n",
    "  \n",
    "  lower_education_rich = round(len(lower_education[lower_education.salary == '>50K'])/len(lower_education) * 100, 1)\n",
    "\n",
    "  min_work_hours = df['hours-per-week'].min()\n",
    "\n",
    "  min_hour = df['hours-per-week'].min()\n",
    "  min_hour_people = df[df['hours-per-week'] == min_work_hours]\n",
    "\n",
    "  rich_percentage = round(len(min_hour_people[min_hour_people.salary == '>50K'])/len(min_hour_people) * 100, 1)\n",
    "\n",
    "\n",
    "  country = df['native-country'].value_counts()\n",
    "  country_rich = df[df['salary'] == '>50K']['native-country'].value_counts()\n",
    "  highest_earning_country = (country_rich / country * 100).idxmax()\n",
    "  highest_earning_country_percentage = round(country_rich / country * 100, 1).max()\n",
    "\n",
    "  people_of_use = df[(df['native-country'] == 'United-States') & (df['salary'] == '>50K')]\n",
    "  occupation_count = people_of_use['occupation'].value_counts()\n",
    "  top_IN_occupation = occupation_count.idxmax()\n",
    "\n",
    "\n",
    "  if print_data:\n",
    "      print(\"Number of each race:\\n\", race_count) \n",
    "      print()\n",
    "      print(\"Average age of men:\", average_age_men)\n",
    "      print(f\"Percentage with Bachelors degrees: {percentage_bachelors}%\")\n",
    "      print()\n",
    "      print(f\"Percentage with higher education that earn >50K: {higher_education_rich}%\")\n",
    "      print()\n",
    "      print(f\"Percentage without higher education that earn >50K: {lower_education_rich}%\")\n",
    "      print()\n",
    "      print(f\"Min work time: {min_work_hours} hours/week\")\n",
    "      print()\n",
    "      print(f\"Percentage of rich among those who work fewest hours: {rich_percentage}%\")\n",
    "      print()\n",
    "      print(\"Country with highest percentage of rich:\", highest_earning_country)\n",
    "      print()\n",
    "      print(f\"Highest percentage of rich people in country: {highest_earning_country_percentage}%\")\n",
    "      print()\n",
    "      print(\"Top occupations in United States:\", top_IN_occupation)\n",
    "\n",
    "\n",
    "calculate_demographic_data()"
   ]
  }
 ],
 "metadata": {
  "kernelspec": {
   "display_name": "Python 3",
   "language": "python",
   "name": "python3"
  },
  "language_info": {
   "codemirror_mode": {
    "name": "ipython",
    "version": 3
   },
   "file_extension": ".py",
   "mimetype": "text/x-python",
   "name": "python",
   "nbconvert_exporter": "python",
   "pygments_lexer": "ipython3",
   "version": "3.10.4"
  },
  "orig_nbformat": 4,
  "vscode": {
   "interpreter": {
    "hash": "3ad933181bd8a04b432d3370b9dc3b0662ad032c4dfaa4e4f1596c548f763858"
   }
  }
 },
 "nbformat": 4,
 "nbformat_minor": 2
}
